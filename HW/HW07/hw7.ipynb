{
 "cells": [
  {
   "cell_type": "markdown",
   "metadata": {},
   "source": [
    "## Problem 1 (Support vector machine)\n",
    "\n",
    "見 ML HW07_Problem1.pdf"
   ]
  },
  {
   "cell_type": "markdown",
   "metadata": {},
   "source": [
    "## Problem 2 (Support vector machine) \n",
    "### (a)、(b)"
   ]
  },
  {
   "cell_type": "code",
   "execution_count": 1,
   "metadata": {},
   "outputs": [],
   "source": [
    "import scipy.io\n",
    "import numpy as np\n",
    "import matplotlib.pyplot as plt\n",
    "from sklearn import svm\n",
    "# from sklearn.model_selection import cross_val_score"
   ]
  },
  {
   "cell_type": "code",
   "execution_count": 2,
   "metadata": {},
   "outputs": [
    {
     "name": "stdout",
     "output_type": "stream",
     "text": [
      "train_x (5000, 784)\n",
      "train_y (5000,)\n",
      "test_x  (1000, 784)\n",
      "test_y  (1000,)\n"
     ]
    }
   ],
   "source": [
    "data = scipy.io.loadmat(\"07HW2_digit.mat\")\n",
    "\n",
    "#  先抓第一個類別，後面直接連接\n",
    "train_x = data[\"train0\"]\n",
    "train_y = np.zeros([500])\n",
    "test_x = data[\"test0\"]\n",
    "test_y = np.zeros([100])\n",
    "\n",
    "for i in range(1, 10):\n",
    "    data_train_x = np.array(data[f\"train{i}\"])\n",
    "    data_train_y = np.ones([500]) * i\n",
    "    data_test_x = np.array(data[f\"test{i}\"])\n",
    "    data_test_y = np.ones([100]) * i\n",
    "\n",
    "    # 連接dataset\n",
    "    train_x = np.r_[train_x, data_train_x]\n",
    "    train_y = np.r_[train_y, data_train_y]\n",
    "    test_x = np.r_[test_x, data_test_x]\n",
    "    test_y = np.r_[test_y, data_test_y]\n",
    "\n",
    "print(\"train_x\", train_x.shape)\n",
    "print(\"train_y\", train_y.shape)\n",
    "print(\"test_x \", test_x.shape)\n",
    "print(\"test_y \", test_y.shape)\n",
    "\n",
    "train01_x = np.r_[data[\"train0\"], data[\"train1\"]]\n",
    "train01_y = np.r_[np.zeros([500]), np.ones([500])]\n",
    "test01_x = np.r_[data[\"test0\"], data[\"test1\"]]\n",
    "test01_y = np.r_[np.zeros([100]), np.ones([100])]"
   ]
  },
  {
   "cell_type": "code",
   "execution_count": 3,
   "metadata": {},
   "outputs": [
    {
     "name": "stdout",
     "output_type": "stream",
     "text": [
      "Parameters: gamma: 6.10352e-05, c: 0.03125, || Score: linear= 1.0, poly=0.995, RBF= 0.5\n",
      "Parameters: gamma: 6.10352e-05, c: 0.12500, || Score: linear= 1.0, poly=0.995, RBF= 0.5\n",
      "Parameters: gamma: 6.10352e-05, c: 0.50000, || Score: linear= 1.0, poly=0.995, RBF= 0.5\n",
      "Parameters: gamma: 6.10352e-05, c: 2.00000, || Score: linear= 1.0, poly=0.995, RBF= 0.535\n",
      "Parameters: gamma: 6.10352e-05, c: 8.00000, || Score: linear= 1.0, poly=0.995, RBF= 0.535\n",
      "Parameters: gamma: 2.44141e-04, c: 0.03125, || Score: linear= 1.0, poly=0.995, RBF= 0.5\n",
      "Parameters: gamma: 2.44141e-04, c: 0.12500, || Score: linear= 1.0, poly=0.995, RBF= 0.5\n",
      "Parameters: gamma: 2.44141e-04, c: 0.50000, || Score: linear= 1.0, poly=0.995, RBF= 0.5\n",
      "Parameters: gamma: 2.44141e-04, c: 2.00000, || Score: linear= 1.0, poly=0.995, RBF= 0.5\n",
      "Parameters: gamma: 2.44141e-04, c: 8.00000, || Score: linear= 1.0, poly=0.995, RBF= 0.5\n",
      "Parameters: gamma: 9.76562e-04, c: 0.03125, || Score: linear= 1.0, poly=0.995, RBF= 0.51\n",
      "Parameters: gamma: 9.76562e-04, c: 0.12500, || Score: linear= 1.0, poly=0.995, RBF= 0.51\n",
      "Parameters: gamma: 9.76562e-04, c: 0.50000, || Score: linear= 1.0, poly=0.995, RBF= 0.51\n",
      "Parameters: gamma: 9.76562e-04, c: 2.00000, || Score: linear= 1.0, poly=0.995, RBF= 0.5\n",
      "Parameters: gamma: 9.76562e-04, c: 8.00000, || Score: linear= 1.0, poly=0.995, RBF= 0.5\n",
      "Parameters: gamma: 3.90625e-03, c: 0.03125, || Score: linear= 1.0, poly=0.995, RBF= 0.5\n",
      "Parameters: gamma: 3.90625e-03, c: 0.12500, || Score: linear= 1.0, poly=0.995, RBF= 0.5\n",
      "Parameters: gamma: 3.90625e-03, c: 0.50000, || Score: linear= 1.0, poly=0.995, RBF= 0.5\n",
      "Parameters: gamma: 3.90625e-03, c: 2.00000, || Score: linear= 1.0, poly=0.995, RBF= 0.5\n",
      "Parameters: gamma: 3.90625e-03, c: 8.00000, || Score: linear= 1.0, poly=0.995, RBF= 0.5\n",
      "Parameters: gamma: 1.56250e-02, c: 0.03125, || Score: linear= 1.0, poly=0.995, RBF= 0.5\n",
      "Parameters: gamma: 1.56250e-02, c: 0.12500, || Score: linear= 1.0, poly=0.995, RBF= 0.5\n",
      "Parameters: gamma: 1.56250e-02, c: 0.50000, || Score: linear= 1.0, poly=0.995, RBF= 0.5\n",
      "Parameters: gamma: 1.56250e-02, c: 2.00000, || Score: linear= 1.0, poly=0.995, RBF= 0.5\n",
      "Parameters: gamma: 1.56250e-02, c: 8.00000, || Score: linear= 1.0, poly=0.995, RBF= 0.5\n"
     ]
    }
   ],
   "source": [
    "gamma = [2**-14, 2**-12, 2**-10, 2**-8, 2**-6]\n",
    "c = [2**-5, 2**-3, 2**-1, 2**1, 2**3]\n",
    "\n",
    "# 有時間的話換成grid searcch\n",
    "# from sklearn.model_selection import GridSearchCV\n",
    "for i in range(5):\n",
    "    for j in range(5):\n",
    "        svm_linear = svm.SVC(kernel='linear', C=c[j]).fit(train01_x, train01_y)\n",
    "        svm_poly = svm.SVC(kernel='poly', gamma=gamma[i], C=c[j]).fit(train01_x, train01_y)\n",
    "        svm_rbf = svm.SVC(kernel='rbf', gamma=gamma[i], C=c[j]).fit(train01_x, train01_y)\n",
    "        \n",
    "        # test data\n",
    "        result_linear = svm_linear.score(test01_x, test01_y)\n",
    "        result_poly = svm_poly.score(test01_x, test01_y)\n",
    "        result_rbf = svm_rbf.score(test01_x, test01_y)\n",
    "\n",
    "        print(f\"Parameters: gamma: {gamma[i]:<1.5e}, c: {c[j]:<1.5f}, || Score: linear= {result_linear}, poly={result_poly}, RBF= {result_rbf}\")"
   ]
  },
  {
   "cell_type": "markdown",
   "metadata": {},
   "source": [
    "可以看出在01數字分別的任務中，因圖形差異性較大， 因此使用linear & poly演算法皆可以取得極佳的成績，而linear整體效果較佳，而且較不受參數數值影響。\n",
    "\n",
    "但是rbf的正確率卻始終皆在0.5，改變gamma或C的數值影響幾乎只有在rbf上，並且透過下方表格可看到他是將所有測試資料皆認為是1，此問題還有待解決"
   ]
  },
  {
   "cell_type": "code",
   "execution_count": 4,
   "metadata": {},
   "outputs": [
    {
     "data": {
      "text/plain": [
       "array([1., 1., 1., 1., 1., 1., 1., 1., 1., 1., 1., 1., 1., 1., 1., 1., 1.,\n",
       "       1., 1., 1., 1., 1., 1., 1., 1., 1., 1., 1., 1., 1., 1., 1., 1., 1.,\n",
       "       1., 1., 1., 1., 1., 1., 1., 1., 1., 1., 1., 1., 1., 1., 1., 1., 1.,\n",
       "       1., 1., 1., 1., 1., 1., 1., 1., 1., 1., 1., 1., 1., 1., 1., 1., 1.,\n",
       "       1., 1., 1., 1., 1., 1., 1., 1., 1., 1., 1., 1., 1., 1., 1., 1., 1.,\n",
       "       1., 1., 1., 1., 1., 1., 1., 1., 1., 1., 1., 1., 1., 1., 1., 1., 1.,\n",
       "       1., 1., 1., 1., 1., 1., 1., 1., 1., 1., 1., 1., 1., 1., 1., 1., 1.,\n",
       "       1., 1., 1., 1., 1., 1., 1., 1., 1., 1., 1., 1., 1., 1., 1., 1., 1.,\n",
       "       1., 1., 1., 1., 1., 1., 1., 1., 1., 1., 1., 1., 1., 1., 1., 1., 1.,\n",
       "       1., 1., 1., 1., 1., 1., 1., 1., 1., 1., 1., 1., 1., 1., 1., 1., 1.,\n",
       "       1., 1., 1., 1., 1., 1., 1., 1., 1., 1., 1., 1., 1., 1., 1., 1., 1.,\n",
       "       1., 1., 1., 1., 1., 1., 1., 1., 1., 1., 1., 1., 1.])"
      ]
     },
     "execution_count": 4,
     "metadata": {},
     "output_type": "execute_result"
    }
   ],
   "source": [
    "svm_rbf.predict(test01_x)"
   ]
  },
  {
   "cell_type": "markdown",
   "metadata": {},
   "source": [
    "### (c)"
   ]
  },
  {
   "cell_type": "code",
   "execution_count": 5,
   "metadata": {},
   "outputs": [],
   "source": [
    "k = 1\n",
    "class_linear = [];class_poly = [];class_rbf = []\n",
    "for i in range(10):\n",
    "    for j in range(k,10):\n",
    "        training_data_c = np.concatenate((np.array(data['train{}'.format(i)]), np.array(data['train{}'.format(j)])), axis = 0)\n",
    "        test_data_c = np.concatenate((np.array(data['test{}'.format(i)]), np.array(data['test{}'.format(j)])), axis = 0)\n",
    "        train_class_c = np.concatenate((np.ones([500])*i, np.ones([500])*j), axis = 0)\n",
    "        test_class_c = np.concatenate((np.ones([100])*i, np.ones([100])*j), axis = 0)\n",
    "        svm_2_linear = svm.SVC(kernel='linear', C=c[0]).fit(training_data_c, train_class_c)\n",
    "        svm_2_poly = svm.SVC(kernel='poly', degree=3, coef0=5, gamma=gamma[0], C=c[0]).fit(training_data_c, train_class_c)\n",
    "        svm_2_rbf = svm.SVC(kernel='rbf', gamma=gamma[1], C=c[0]).fit(training_data_c, train_class_c)\n",
    "        class_linear.append(svm_2_linear.predict(test_data_c).astype(int))\n",
    "        class_poly.append(svm_2_poly.predict(test_data_c).astype(int))\n",
    "        class_rbf.append(svm_2_rbf.predict(test_data_c).astype(int))\n",
    "    k += 1"
   ]
  },
  {
   "cell_type": "code",
   "execution_count": 6,
   "metadata": {},
   "outputs": [
    {
     "name": "stdout",
     "output_type": "stream",
     "text": [
      "Accuracy of linear kernal :    0.99\n",
      "Accuracy of polynomial kernal :  0.996\n",
      "Accuracy of RBF kernal :       0.826\n"
     ]
    }
   ],
   "source": [
    "ltestclass = [];ptestclass = [];rtestclass = []\n",
    "class0_linear = np.vstack(class_linear[0:9])\n",
    "for i in range(100):\n",
    "    ltestclass.append(np.argmax(np.bincount(class0_linear[:,i])))\n",
    "class1_linear = np.vstack(class_linear[9:17])\n",
    "for i in range(100):\n",
    "    ltestclass.append(np.argmax(np.bincount(class1_linear[:,i])))\n",
    "class2_linear = np.vstack(class_linear[17:24])\n",
    "for i in range(100):\n",
    "    ltestclass.append(np.argmax(np.bincount(class2_linear[:,i])))\n",
    "class3_linear = np.vstack(class_linear[24:30])\n",
    "for i in range(100):\n",
    "    ltestclass.append(np.argmax(np.bincount(class3_linear[:,i])))\n",
    "class4_linear = np.vstack(class_linear[30:35])\n",
    "for i in range(100):\n",
    "    ltestclass.append(np.argmax(np.bincount(class4_linear[:,i])))\n",
    "class5_linear = np.vstack(class_linear[35:39])\n",
    "for i in range(100):\n",
    "    ltestclass.append(np.argmax(np.bincount(class5_linear[:,i])))\n",
    "class6_linear = np.vstack(class_linear[39:42])\n",
    "for i in range(100):\n",
    "    ltestclass.append(np.argmax(np.bincount(class6_linear[:,i])))\n",
    "class7_linear = np.vstack(class_linear[42:44])\n",
    "for i in range(100):\n",
    "    ltestclass.append(np.argmax(np.bincount(class7_linear[:,i])))\n",
    "for i in range(200):\n",
    "    ltestclass.append(class_linear[44][i])\n",
    "\n",
    "class0_poly = np.vstack(class_poly[0:9])\n",
    "for i in range(100):\n",
    "    ptestclass.append(np.argmax(np.bincount(class0_poly[:,i])))\n",
    "class1_poly = np.vstack(class_poly[9:17])\n",
    "for i in range(100):\n",
    "    ptestclass.append(np.argmax(np.bincount(class1_poly[:,i])))\n",
    "class2_poly = np.vstack(class_poly[17:24])\n",
    "for i in range(100):\n",
    "    ptestclass.append(np.argmax(np.bincount(class2_poly[:,i])))\n",
    "class3_poly = np.vstack(class_poly[24:30])\n",
    "for i in range(100):\n",
    "    ptestclass.append(np.argmax(np.bincount(class3_poly[:,i])))\n",
    "class4_poly = np.vstack(class_poly[30:35])\n",
    "for i in range(100):\n",
    "    ptestclass.append(np.argmax(np.bincount(class4_poly[:,i])))\n",
    "class5_poly = np.vstack(class_poly[35:39])\n",
    "for i in range(100):\n",
    "    ptestclass.append(np.argmax(np.bincount(class5_poly[:,i])))\n",
    "class6_poly = np.vstack(class_poly[39:42])\n",
    "for i in range(100):\n",
    "    ptestclass.append(np.argmax(np.bincount(class6_poly[:,i])))\n",
    "class7_poly = np.vstack(class_poly[42:44])\n",
    "for i in range(100):\n",
    "    ptestclass.append(np.argmax(np.bincount(class7_poly[:,i])))\n",
    "for i in range(200):\n",
    "    ptestclass.append(class_poly[44][i])\n",
    "\n",
    "class0_rbf = np.vstack(class_rbf[0:9])\n",
    "for i in range(100):\n",
    "    rtestclass.append(np.argmax(np.bincount(class0_rbf[:,i])))\n",
    "class1_rbf = np.vstack(class_rbf[9:17])\n",
    "for i in range(100):\n",
    "    rtestclass.append(np.argmax(np.bincount(class1_rbf[:,i])))\n",
    "class2_rbf = np.vstack(class_rbf[17:24])\n",
    "for i in range(100):\n",
    "    rtestclass.append(np.argmax(np.bincount(class2_rbf[:,i])))\n",
    "class3_rbf = np.vstack(class_rbf[24:30])\n",
    "for i in range(100):\n",
    "    rtestclass.append(np.argmax(np.bincount(class3_rbf[:,i])))\n",
    "class4_rbf = np.vstack(class_rbf[30:35])\n",
    "for i in range(100):\n",
    "    rtestclass.append(np.argmax(np.bincount(class4_rbf[:,i])))\n",
    "class5_rbf = np.vstack(class_rbf[35:39])\n",
    "for i in range(100):\n",
    "    rtestclass.append(np.argmax(np.bincount(class5_rbf[:,i])))\n",
    "class6_rbf = np.vstack(class_rbf[39:42])\n",
    "for i in range(100):\n",
    "    rtestclass.append(np.argmax(np.bincount(class6_rbf[:,i])))\n",
    "class7_rbf = np.vstack(class_rbf[42:44])\n",
    "for i in range(100):\n",
    "    rtestclass.append(np.argmax(np.bincount(class7_rbf[:,i])))\n",
    "for i in range(200):\n",
    "    rtestclass.append(class_rbf[44][i])\n",
    "    \n",
    "lacuracy = np.sum(np.equal(ltestclass, test_y)) / len(test_y)\n",
    "pacuracy = np.sum(np.equal(ptestclass, test_y)) / len(test_y)\n",
    "racuracy = np.sum(np.equal(rtestclass, test_y)) / len(test_y)\n",
    "\n",
    "print('Accuracy of linear kernal :   ', lacuracy)\n",
    "print('Accuracy of polynomial kernal : ', pacuracy)\n",
    "print('Accuracy of RBF kernal :      ', racuracy)"
   ]
  },
  {
   "cell_type": "markdown",
   "metadata": {},
   "source": [
    "做法：one-versus-one SVM，每一層迴圈只輸入兩個class且只判斷其中一個class的正確性，如此往復做完全部的class再以投票方式，選出最高的類別進行class的決定。\n",
    "\n",
    "以上述結果來看linear kernal做出來的準確率最高。\n",
    "\n",
    "但以上準確率有可能因參數挑選不同而有差異，但是就mnist data來說，不同參數對SVM的判別結果差異甚大，因此需要不斷調整參數，\n",
    "\n",
    "但是在一般情況來說RBF kernal設計形式表現應該會是最好的。"
   ]
  }
 ],
 "metadata": {
  "kernelspec": {
   "display_name": "Python 3.8.10 ('detec2': venv)",
   "language": "python",
   "name": "python3"
  },
  "language_info": {
   "codemirror_mode": {
    "name": "ipython",
    "version": 3
   },
   "file_extension": ".py",
   "mimetype": "text/x-python",
   "name": "python",
   "nbconvert_exporter": "python",
   "pygments_lexer": "ipython3",
   "version": "3.8.10"
  },
  "orig_nbformat": 4,
  "vscode": {
   "interpreter": {
    "hash": "8aac36eac4ff21fe7fa5d3a0b6e8f2bda22293ed6600846fb86d065fde590701"
   }
  }
 },
 "nbformat": 4,
 "nbformat_minor": 2
}
